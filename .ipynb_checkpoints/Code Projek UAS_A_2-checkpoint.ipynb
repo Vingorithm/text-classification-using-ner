{
 "cells": [
  {
   "cell_type": "markdown",
   "id": "06336b06-2112-47b9-8236-f06295493a89",
   "metadata": {},
   "source": [
    "# **Ujian Akhir Semester - Pengolahan Bahasa Alami**\n",
    "\n",
    "## Anggota Kelompok:\n",
    "- **Kevin Philips Tanamas** (220711789)  \n",
    "- **Richard Angelico** (220711747)\n",
    "- **Anthony Alvin Nathaniel** (220711773)\n",
    "- **Nicholas Raymond Thosimaru** (220712111)\n",
    "- **Maria** (220711969)"
   ]
  },
  {
   "cell_type": "markdown",
   "id": "2200e11b-1806-4bca-abd3-6b004f206437",
   "metadata": {},
   "source": [
    "## Library Import"
   ]
  },
  {
   "cell_type": "code",
   "execution_count": 1,
   "id": "a508b82b-34f9-4db8-a939-dfdf73faf7aa",
   "metadata": {},
   "outputs": [
    {
     "name": "stderr",
     "output_type": "stream",
     "text": [
      "2025-06-26 14:09:14.492038: I tensorflow/core/util/port.cc:153] oneDNN custom operations are on. You may see slightly different numerical results due to floating-point round-off errors from different computation orders. To turn them off, set the environment variable `TF_ENABLE_ONEDNN_OPTS=0`.\n",
      "2025-06-26 14:09:14.521210: E external/local_xla/xla/stream_executor/cuda/cuda_fft.cc:477] Unable to register cuFFT factory: Attempting to register factory for plugin cuFFT when one has already been registered\n",
      "WARNING: All log messages before absl::InitializeLog() is called are written to STDERR\n",
      "E0000 00:00:1750921754.561532 1052559 cuda_dnn.cc:8310] Unable to register cuDNN factory: Attempting to register factory for plugin cuDNN when one has already been registered\n",
      "E0000 00:00:1750921754.569157 1052559 cuda_blas.cc:1418] Unable to register cuBLAS factory: Attempting to register factory for plugin cuBLAS when one has already been registered\n",
      "2025-06-26 14:09:14.606344: I tensorflow/core/platform/cpu_feature_guard.cc:210] This TensorFlow binary is optimized to use available CPU instructions in performance-critical operations.\n",
      "To enable the following instructions: AVX2 AVX512F AVX512_VNNI AVX512_BF16 AVX512_FP16 AVX_VNNI AMX_TILE AMX_INT8 AMX_BF16 FMA, in other operations, rebuild TensorFlow with the appropriate compiler flags.\n"
     ]
    }
   ],
   "source": [
    "import os\n",
    "os.environ['TF_GPU_ALLOCATOR'] = 'cuda_malloc_async'\n",
    "\n",
    "import gc\n",
    "import fasttext\n",
    "import pandas as pd\n",
    "import numpy as np\n",
    "import matplotlib.pyplot as plt\n",
    "import seaborn as sns\n",
    "from tqdm import tqdm\n",
    "\n",
    "from sklearn.metrics import confusion_matrix\n",
    "from seqeval.scheme import BILOU\n",
    "from seqeval.metrics import classification_report, f1_score\n",
    "\n",
    "import tensorflow as tf\n",
    "from tensorflow.keras.callbacks import EarlyStopping\n",
    "from tensorflow.keras.optimizers import Adam\n",
    "from tensorflow.keras.models import Model\n",
    "from tensorflow.keras.layers import Input, Bidirectional, LSTM, GRU, Dense, TimeDistributed, Dropout\n",
    "from collections import Counter\n",
    "from sklearn.model_selection import train_test_split\n",
    "\n",
    "tqdm.pandas()"
   ]
  },
  {
   "cell_type": "markdown",
   "id": "7acc946f-13b3-4ad2-a55e-aa26aa1ee59b",
   "metadata": {},
   "source": [
    "## Data Loading Function"
   ]
  },
  {
   "cell_type": "markdown",
   "id": "fb5e8792-f273-4de0-bdf4-498e802239b0",
   "metadata": {},
   "source": [
    "## Load Data"
   ]
  },
  {
   "cell_type": "code",
   "execution_count": 3,
   "id": "17ed5aff-f749-4270-96af-58036e6b2321",
   "metadata": {},
   "outputs": [],
   "source": [
    "def insert_blank_lines(input_path, output_path):\n",
    "    with open(input_path, 'r', encoding='utf-8') as infile, open(output_path, 'w', encoding='utf-8') as outfile:\n",
    "        for line in infile:\n",
    "            outfile.write(line)\n",
    "            if line.strip().endswith(('.-O', '!-O', '?-O')):\n",
    "                outfile.write('\\n') \n",
    "\n",
    "insert_blank_lines(\"dataset_betawi.txt\", \"dataset_betawi_split.txt\")"
   ]
  },
  {
   "cell_type": "code",
   "execution_count": 4,
   "id": "78faab94-951b-4dc5-b840-2a53f5a1b25d",
   "metadata": {},
   "outputs": [],
   "source": [
    "def load_data(file_path):\n",
    "    sentences = []\n",
    "    labels = []\n",
    "    sentence = []\n",
    "    label_seq = []\n",
    "\n",
    "    with open(file_path, 'r', encoding='utf-8') as f:\n",
    "        for line in f:\n",
    "            line = line.strip()\n",
    "            if not line:\n",
    "                # Baris kosong = akhir kalimat\n",
    "                if sentence:\n",
    "                    sentences.append(sentence)\n",
    "                    labels.append(label_seq)\n",
    "                    sentence = []\n",
    "                    label_seq = []\n",
    "                continue\n",
    "\n",
    "            # Hapus nomor dan titik dua di depan (contoh: \"12: Ane-O\")\n",
    "            if \":\" in line:\n",
    "                line = line.split(\":\", 1)[1].strip()\n",
    "\n",
    "            if \"-\" not in line:\n",
    "                continue\n",
    "\n",
    "            token, tag = line.rsplit(\"-\", 1)\n",
    "            sentence.append(token)\n",
    "            label_seq.append(tag)\n",
    "\n",
    "        # Tambahkan kalimat terakhir jika ada\n",
    "        if sentence:\n",
    "            sentences.append(sentence)\n",
    "            labels.append(label_seq)\n",
    "\n",
    "    return sentences, labels"
   ]
  },
  {
   "cell_type": "code",
   "execution_count": 5,
   "id": "f6b167ad-3750-4389-8029-9a54553dd6e5",
   "metadata": {},
   "outputs": [
    {
     "name": "stdout",
     "output_type": "stream",
     "text": [
      "1: Ane-O\n",
      "2: pake-O\n",
      "3: Honda-B-PRODUCT\n",
      "4: Jazz-I-PRODUCT\n",
      "5: GK5-I-PRODUCT\n",
      "6: 2014-L-PRODUCT\n",
      "7: (-O\n",
      "8: pertama-O\n",
      "9: diluncurkan-O\n",
      "10: )-O\n",
      "11: .-O\n",
      "12: \n",
      "13: Mobilnya-B-OTHERS_POSITIVE\n",
      "14: bagus-I-OTHERS_POSITIVE\n",
      "15: dan-I-OTHERS_POSITIVE\n",
      "16: bagus-I-OTHERS_POSITIVE\n",
      "17: sesuai-I-OTHERS_POSITIVE\n",
      "18: motto-I-OTHERS_POSITIVE\n",
      "19: ,-I-OTHERS_POSITIVE\n",
      "20: asik-I-OTHERS_POSITIVE\n"
     ]
    }
   ],
   "source": [
    "with open(\"./dataset_betawi_split.txt\", \"r\", encoding=\"utf-8\") as f:\n",
    "    lines = f.readlines()\n",
    "\n",
    "for i, line in enumerate(lines[:20]):\n",
    "    print(f\"{i+1}: {line.strip()}\")\n"
   ]
  },
  {
   "cell_type": "code",
   "execution_count": 6,
   "id": "f8517eb9-026d-4ca1-ba75-e10ce97b6f23",
   "metadata": {},
   "outputs": [
    {
     "name": "stdout",
     "output_type": "stream",
     "text": [
      "Loaded 867 samples.\n",
      "\n",
      "Informasi kolom DataFrame:\n",
      "tokens    object\n",
      "tags      object\n",
      "dtype: object\n",
      "\n",
      "Deskripsi data:\n",
      "Total kalimat: 867\n",
      "Rata-rata panjang kalimat: 18.45 tokens\n",
      "Kalimat terpendek: 1 tokens\n",
      "Kalimat terpanjang: 124 tokens\n",
      "Train: 606, Valid: 130, Test: 131\n"
     ]
    }
   ],
   "source": [
    "# Load all data\n",
    "full_file = \"./dataset_betawi_split.txt\"\n",
    "sentences, labels = load_data(full_file)\n",
    "\n",
    "# Check if data loaded\n",
    "print(f\"Loaded {len(sentences)} samples.\")\n",
    "\n",
    "# Split into train (70%) and temp (30%)\n",
    "train_sentences, temp_sentences, train_labels, temp_labels = train_test_split(\n",
    "    sentences, labels, test_size=0.3, random_state=42\n",
    ")\n",
    "\n",
    "# Split temp into validation (15%) and test (15%)\n",
    "valid_sentences, test_sentences, valid_labels, test_labels = train_test_split(\n",
    "    temp_sentences, temp_labels, test_size=0.5, random_state=42\n",
    ")\n",
    "\n",
    "# Create dataframes\n",
    "train_df = pd.DataFrame({'tokens': train_sentences, 'tags': train_labels})\n",
    "valid_df = pd.DataFrame({'tokens': valid_sentences, 'tags': valid_labels})\n",
    "test_df = pd.DataFrame({'tokens': test_sentences, 'tags': test_labels})\n",
    "df_all = pd.DataFrame({'tokens': sentences, 'tags': labels})\n",
    "\n",
    "# Informasi tentang kolom\n",
    "print(\"\\nInformasi kolom DataFrame:\")\n",
    "print(df_all.dtypes)\n",
    "\n",
    "# Deskripsi singkat isi data\n",
    "lengths = [len(s) for s in sentences]\n",
    "print(\"\\nDeskripsi data:\")\n",
    "print(f\"Total kalimat: {len(sentences)}\")\n",
    "print(f\"Rata-rata panjang kalimat: {sum(lengths)/len(lengths):.2f} tokens\")\n",
    "print(f\"Kalimat terpendek: {min(lengths)} tokens\")\n",
    "print(f\"Kalimat terpanjang: {max(lengths)} tokens\")\n",
    "\n",
    "# Print sizes\n",
    "print(f\"Train: {len(train_df)}, Valid: {len(valid_df)}, Test: {len(test_df)}\")"
   ]
  },
  {
   "cell_type": "markdown",
   "id": "30a69899-1bf6-4180-9a27-219b2bd2c91f",
   "metadata": {},
   "source": [
    "## Data Checking (Liat Semua Tags) & Visualization"
   ]
  },
  {
   "cell_type": "code",
   "execution_count": 7,
   "id": "3bf249be-fdec-46cf-a8da-e01a5fb7ebd3",
   "metadata": {},
   "outputs": [
    {
     "name": "stdout",
     "output_type": "stream",
     "text": [
      "Total tags in training: 11221\n",
      "Tag distribution in training set:\n",
      "O                   6845\n",
      "PRODUCT             1093\n",
      "OTHERS_POSITIVE      697\n",
      "MACHINE_POSITIVE     471\n",
      "PART_POSITIVE        441\n",
      "PART_NEGATIVE        310\n",
      "FUEL_POSITIVE        306\n",
      "PRICE_POSITIVE       227\n",
      "SERVICE_POSITIVE     214\n",
      "SERVICE_NEGATIVE     193\n",
      "Name: count, dtype: int64\n"
     ]
    }
   ],
   "source": [
    "# Set all tags (flattened) from training labels\n",
    "all_tags_flat = [tag for seq in train_labels for tag in seq]\n",
    "\n",
    "print(f\"Total tags in training: {len(all_tags_flat)}\")\n",
    "\n",
    "print(\"Tag distribution in training set:\")\n",
    "tag_counts = pd.Series(all_tags_flat).value_counts()\n",
    "print(tag_counts.head(10))"
   ]
  },
  {
   "cell_type": "code",
   "execution_count": 141,
   "id": "543b6264-cf03-4385-a194-61dff83678ed",
   "metadata": {},
   "outputs": [
    {
     "name": "stderr",
     "output_type": "stream",
     "text": [
      "C:\\Users\\Pongo\\AppData\\Local\\Temp\\ipykernel_21608\\2071062896.py:2: FutureWarning: \n",
      "\n",
      "Passing `palette` without assigning `hue` is deprecated and will be removed in v0.14.0. Assign the `y` variable to `hue` and set `legend=False` for the same effect.\n",
      "\n",
      "  sns.barplot(x=tag_counts.values, y=tag_counts.index, palette=\"viridis\")\n"
     ]
    },
    {
     "data": {
      "image/png": "[encoded data removed]",
      "text/plain": [
       "<Figure size 1000x600 with 1 Axes>"
      ]
     },
     "metadata": {},
     "output_type": "display_data"
    }
   ],
   "source": [
    "plt.figure(figsize=(10, 6))\n",
    "sns.barplot(x=tag_counts.values, y=tag_counts.index, palette=\"viridis\")\n",
    "plt.title(\"Distribusi Tag di Dataset\")\n",
    "plt.xlabel(\"Jumlah Token\")\n",
    "plt.ylabel(\"Tag\")\n",
    "plt.tight_layout()\n",
    "plt.show()"
   ]
  },
  {
   "cell_type": "code",
   "execution_count": 142,
   "id": "5174270a-2e42-4e56-bed9-3fe412baf690",
   "metadata": {},
   "outputs": [
    {
     "data": {
      "image/png": "[encoded data removed]",
      "text/plain": [
       "<Figure size 800x500 with 1 Axes>"
      ]
     },
     "metadata": {},
     "output_type": "display_data"
    }
   ],
   "source": [
    "train_lengths = [len(seq) for seq in train_sentences]\n",
    "\n",
    "plt.figure(figsize=(8, 5))\n",
    "sns.histplot(train_lengths, bins=20, kde=True)\n",
    "plt.title(\"Distribusi Panjang Kalimat di Dataset\")\n",
    "plt.xlabel(\"Jumlah Token per Kalimat\")\n",
    "plt.ylabel(\"Jumlah Kalimat\")\n",
    "plt.tight_layout()\n",
    "plt.show()"
   ]
  },
  {
   "cell_type": "code",
   "execution_count": 143,
   "id": "cef56b69-225f-4aac-ba77-74bca50dd761",
   "metadata": {},
   "outputs": [
    {
     "name": "stderr",
     "output_type": "stream",
     "text": [
      "C:\\Users\\Pongo\\AppData\\Local\\Temp\\ipykernel_21608\\2212785168.py:6: FutureWarning: \n",
      "\n",
      "Passing `palette` without assigning `hue` is deprecated and will be removed in v0.14.0. Assign the `y` variable to `hue` and set `legend=False` for the same effect.\n",
      "\n",
      "  sns.barplot(x=common_tokens.values, y=common_tokens.index, palette=\"mako\")\n"
     ]
    },
    {
     "data": {
      "image/png": "[encoded data removed]",
      "text/plain": [
       "<Figure size 1000x500 with 1 Axes>"
      ]
     },
     "metadata": {},
     "output_type": "display_data"
    }
   ],
   "source": [
    "all_tokens = [tok for seq in train_sentences for tok in seq]\n",
    "token_counts = Counter(all_tokens)\n",
    "common_tokens = pd.Series(dict(token_counts.most_common(10)))\n",
    "\n",
    "plt.figure(figsize=(10, 5))\n",
    "sns.barplot(x=common_tokens.values, y=common_tokens.index, palette=\"mako\")\n",
    "plt.title(\"10 Token Paling Sering Muncul di Dataset\")\n",
    "plt.xlabel(\"Frekuensi\")\n",
    "plt.ylabel(\"Token\")\n",
    "plt.tight_layout()\n",
    "plt.show()\n"
   ]
  },
  {
   "cell_type": "code",
   "execution_count": 144,
   "id": "6d4a6b69-a1c6-440c-b44d-84340e020e89",
   "metadata": {},
   "outputs": [
    {
     "name": "stderr",
     "output_type": "stream",
     "text": [
      "C:\\Users\\Pongo\\AppData\\Local\\Temp\\ipykernel_21608\\1962913272.py:8: FutureWarning: \n",
      "\n",
      "Passing `palette` without assigning `hue` is deprecated and will be removed in v0.14.0. Assign the `x` variable to `hue` and set `legend=False` for the same effect.\n",
      "\n",
      "  sns.barplot(x=split_counts.index, y=split_counts.values, palette=\"deep\")\n"
     ]
    },
    {
     "data": {
      "image/png": "[encoded data removed]",
      "text/plain": [
       "<Figure size 600x400 with 1 Axes>"
      ]
     },
     "metadata": {},
     "output_type": "display_data"
    }
   ],
   "source": [
    "split_counts = pd.Series({\n",
    "    \"Train\": len(train_df),\n",
    "    \"Valid\": len(valid_df),\n",
    "    \"Test\": len(test_df)\n",
    "})\n",
    "\n",
    "plt.figure(figsize=(6, 4))\n",
    "sns.barplot(x=split_counts.index, y=split_counts.values, palette=\"deep\")\n",
    "plt.title(\"Jumlah Kalimat per Split Dataset\")\n",
    "plt.ylabel(\"Jumlah Kalimat\")\n",
    "plt.tight_layout()\n",
    "plt.show()"
   ]
  },
  {
   "cell_type": "markdown",
   "id": "bf9877d0-4181-45d8-a7d7-c05891c1128b",
   "metadata": {},
   "source": [
    "## Load FastText Model"
   ]
  },
  {
   "cell_type": "code",
   "execution_count": 145,
   "id": "45a454dd-b280-4928-ac65-2eab35e29409",
   "metadata": {},
   "outputs": [
    {
     "name": "stdout",
     "output_type": "stream",
     "text": [
      "Loading FastText model...\n",
      "FastText model loaded successfully.\n"
     ]
    }
   ],
   "source": [
    "# Cek dan unduh FastText model jika belum tersedia\n",
    "if not os.path.exists('./cc.id.300.bin'):\n",
    "    print(\"FastText model not found. Downloading model (this may take a while)...\")\n",
    "    os.system(\"wget -c https://dl.fbaipublicfiles.com/fasttext/vectors-crawl/cc.id.300.bin.gz\")\n",
    "    os.system(\"gunzip cc.id.300.bin.gz\")\n",
    "    print(\"Download complete.\")\n",
    "\n",
    "# Load FastText model\n",
    "# Download file .bin https://dl.fbaipublicfiles.com/fasttext/vectors-crawl/cc.id.300.bin.gz\n",
    "# Extract file .gz\n",
    "# Pastikan file cc.id.300.bin ada di direktori yang sama dengan Jupyter Notebook ini\n",
    "print(\"Loading FastText model...\")\n",
    "ft = fasttext.load_model('./cc.id.300.bin')\n",
    "print(\"FastText model loaded successfully.\")\n",
    "\n",
    "# Set embedding size dan panjang maksimum urutan\n",
    "emb_size = 300\n",
    "max_seq_len = 128\n"
   ]
  },
  {
   "cell_type": "markdown",
   "id": "238ebecc",
   "metadata": {},
   "source": [
    "## Tag Mapping"
   ]
  },
  {
   "cell_type": "code",
   "execution_count": 146,
   "id": "b5a21514",
   "metadata": {},
   "outputs": [
    {
     "name": "stdout",
     "output_type": "stream",
     "text": [
      "Number of unique tags (including PAD): 15\n"
     ]
    }
   ],
   "source": [
    "from sklearn.preprocessing import LabelEncoder\n",
    "from sklearn.decomposition import PCA\n",
    "from tensorflow.keras.preprocessing.sequence import pad_sequences\n",
    "\n",
    "# Buat mapping tag ke ID\n",
    "all_tags = sorted(set(tag for seq in train_df['tags'] for tag in seq))\n",
    "tag2index = {tag: idx + 1 for idx, tag in enumerate(all_tags)}\n",
    "tag2index['PAD'] = 0\n",
    "index2tag = {idx: tag for tag, idx in tag2index.items()}\n",
    "\n",
    "num_tags = len(tag2index)\n",
    "\n",
    "# Fungsi untuk encoding dan padding label\n",
    "def encode_tags(tags, tag2index, max_len):\n",
    "    tag_ids = [tag2index.get(tag, tag2index['PAD']) for tag in tags]\n",
    "    return pad_sequences([tag_ids], maxlen=max_len, padding='post', value=tag2index['PAD'])[0]\n",
    "\n",
    "train_df['tag_ids'] = train_df['tags'].apply(lambda tags: encode_tags(tags, tag2index, max_seq_len))\n",
    "valid_df['tag_ids'] = valid_df['tags'].apply(lambda tags: encode_tags(tags, tag2index, max_seq_len))\n",
    "test_df['tag_ids'] = test_df['tags'].apply(lambda tags: encode_tags(tags, tag2index, max_seq_len))\n",
    "\n",
    "print(f\"Number of unique tags (including PAD): {num_tags}\")"
   ]
  },
  {
   "cell_type": "markdown",
   "id": "2a9a3f61-cb23-4fad-960e-1daf6553dd58",
   "metadata": {},
   "source": [
    "## Word Embeddings Function"
   ]
  },
  {
   "cell_type": "code",
   "execution_count": 147,
   "id": "0468227d-66ec-4b46-8c00-b3108ca3e13b",
   "metadata": {},
   "outputs": [
    {
     "name": "stdout",
     "output_type": "stream",
     "text": [
      "Creating word embeddings...\n"
     ]
    },
    {
     "name": "stderr",
     "output_type": "stream",
     "text": [
      "100%|██████████| 606/606 [00:00<00:00, 1318.61it/s]\n",
      "100%|██████████| 130/130 [00:00<00:00, 989.20it/s] \n",
      "100%|██████████| 131/131 [00:00<00:00, 1228.31it/s]\n"
     ]
    }
   ],
   "source": [
    "# Membuat fungsi untuk menghasilkan word embeddings dari token\n",
    "def get_tok_emb(tokens):\n",
    "    emb = np.zeros((max_seq_len, emb_size))\n",
    "    for i, word in enumerate(tokens[:max_seq_len]):\n",
    "        emb[i] = ft.get_word_vector(word)\n",
    "    return emb\n",
    "\n",
    "# Proses pembuatan embeddings untuk setiap token dalam dataset\n",
    "print(\"Creating word embeddings...\")\n",
    "train_df['tokens_embedding'] = train_df['tokens'].progress_apply(get_tok_emb)\n",
    "valid_df['tokens_embedding'] = valid_df['tokens'].progress_apply(get_tok_emb)\n",
    "test_df['tokens_embedding'] = test_df['tokens'].progress_apply(get_tok_emb)"
   ]
  },
  {
   "cell_type": "code",
   "execution_count": 148,
   "id": "c7fc7d4d-c321-4c92-b9c2-ab43c4670107",
   "metadata": {},
   "outputs": [
    {
     "name": "stdout",
     "output_type": "stream",
     "text": [
      "Creating tag mapping...\n",
      "Number of unique tags: 14\n",
      "Tag to index mapping (sample):\n",
      "FUEL_NEGATIVE -> 1\n",
      "FUEL_POSITIVE -> 2\n",
      "MACHINE_NEGATIVE -> 3\n",
      "MACHINE_POSITIVE -> 4\n",
      "O -> 5\n",
      "OTHERS_NEGATIVE -> 6\n",
      "OTHERS_POSITIVE -> 7\n",
      "PART_NEGATIVE -> 8\n",
      "PART_POSITIVE -> 9\n",
      "PRICE_NEGATIVE -> 10\n"
     ]
    }
   ],
   "source": [
    "# Membuat mapping untuk tag ke indeks dan sebaliknya\n",
    "print(\"Creating tag mapping...\")\n",
    "\n",
    "# Ambil semua tag unik dari data latih\n",
    "all_tags = sorted(set(tag for seq in train_df['tags'] for tag in seq))\n",
    "print(f\"Number of unique tags: {len(all_tags)}\")\n",
    "\n",
    "# Buat mapping dari tag ke indeks, dengan indeks 0 untuk padding\n",
    "tag2index = {tag: idx + 1 for idx, tag in enumerate(all_tags)}\n",
    "tag2index['PAD'] = 0  # PAD token at index 0\n",
    "\n",
    "# Buat mapping sebaliknya dari indeks ke tag\n",
    "index2tag = {idx: tag for tag, idx in tag2index.items()}\n",
    "\n",
    "# Tampilkan beberapa mapping untuk verifikasi\n",
    "print(\"Tag to index mapping (sample):\")\n",
    "for i, (tag, idx) in enumerate(tag2index.items()):\n",
    "    if i < 10:  # Tampilkan 10 pertama\n",
    "        print(f\"{tag} -> {idx}\")\n"
   ]
  },
  {
   "cell_type": "markdown",
   "id": "0ebe68ea",
   "metadata": {},
   "source": [
    "## Dimensionality Reduction (PCA)"
   ]
  },
  {
   "cell_type": "code",
   "execution_count": 149,
   "id": "a2b2ae0a",
   "metadata": {},
   "outputs": [
    {
     "name": "stderr",
     "output_type": "stream",
     "text": [
      "100%|██████████| 606/606 [00:01<00:00, 490.10it/s]\n",
      "100%|██████████| 130/130 [00:00<00:00, 722.23it/s]\n",
      "100%|██████████| 131/131 [00:00<00:00, 1619.71it/s]\n"
     ]
    }
   ],
   "source": [
    "# Gabungkan semua embedding untuk fit PCA\n",
    "all_embeddings = np.vstack(train_df['tokens_embedding'].values)\n",
    "pca_components = 50\n",
    "pca = PCA(n_components=pca_components)\n",
    "pca.fit(all_embeddings)\n",
    "\n",
    "# Transform setiap embedding sequence\n",
    "def reduce_dims(emb_matrix):\n",
    "    return pca.transform(emb_matrix)\n",
    "\n",
    "train_df['tokens_embedding_pca'] = train_df['tokens_embedding'].progress_apply(reduce_dims)\n",
    "valid_df['tokens_embedding_pca'] = valid_df['tokens_embedding'].progress_apply(reduce_dims)\n",
    "test_df['tokens_embedding_pca'] = test_df['tokens_embedding'].progress_apply(reduce_dims)\n",
    "\n",
    "# Update embedding size ke dimensi baru\n",
    "emb_size = pca_components"
   ]
  },
  {
   "cell_type": "markdown",
   "id": "b530605b",
   "metadata": {},
   "source": [
    "## Optimasi Dataset"
   ]
  },
  {
   "cell_type": "code",
   "execution_count": 150,
   "id": "7d0e4ce6",
   "metadata": {},
   "outputs": [
    {
     "name": "stdout",
     "output_type": "stream",
     "text": [
      "Feature engineering complete.\n",
      "X_train shape: (606, 128, 50)\n",
      "y_train shape: (606, 128, 1)\n",
      "X_valid shape: (130, 128, 50)\n",
      "X_test shape: (131, 128, 50)\n"
     ]
    }
   ],
   "source": [
    "X_train = np.stack(train_df['tokens_embedding_pca'].values)\n",
    "y_train = np.stack(train_df['tag_ids'].values)\n",
    "\n",
    "X_valid = np.stack(valid_df['tokens_embedding_pca'].values)\n",
    "y_valid = np.stack(valid_df['tag_ids'].values)\n",
    "\n",
    "X_test = np.stack(test_df['tokens_embedding_pca'].values)\n",
    "y_test = np.stack(test_df['tag_ids'].values)\n",
    "\n",
    "# Expand label dims: (batch_size, timesteps, 1)\n",
    "y_train = np.expand_dims(y_train, -1)\n",
    "y_valid = np.expand_dims(y_valid, -1)\n",
    "y_test = np.expand_dims(y_test, -1)\n",
    "\n",
    "print(\"Feature engineering complete.\")\n",
    "print(f\"X_train shape: {X_train.shape}\")\n",
    "print(f\"y_train shape: {y_train.shape}\")\n",
    "print(f\"X_valid shape: {X_valid.shape}\")\n",
    "print(f\"X_test shape: {X_test.shape}\")"
   ]
  },
  {
   "cell_type": "markdown",
   "id": "8730f6f3-c8e0-4a0c-beef-aa4f1296bf5b",
   "metadata": {},
   "source": [
    "## Bilstm Model Function"
   ]
  },
  {
   "cell_type": "code",
   "execution_count": 151,
   "id": "74fa4739-f30f-4e75-aca3-a41f36ac0a8f",
   "metadata": {},
   "outputs": [],
   "source": [
    "def bilstm_model(max_len_seq, emb_size, rnn_units, num_tags, lr=0.001):\n",
    "    \"\"\"\n",
    "    Bidirectional LSTM model for NER - highest accuracy but slowest training\n",
    "\n",
    "    Args:\n",
    "        max_len_seq: Maximum sequence length\n",
    "        emb_size: Embedding size\n",
    "        rnn_units: Number of LSTM units per direction\n",
    "        num_tags: Number of output tags\n",
    "        lr: Learning rate\n",
    "    \"\"\"\n",
    "    # Input layer\n",
    "    inputs = Input(shape=(max_len_seq, emb_size), dtype='float32')\n",
    "\n",
    "    # Projection layer to reduce dimensions\n",
    "    x = Dense(128, activation='relu')(inputs)\n",
    "\n",
    "    # Bidirectional LSTM - processes sequences in both directions\n",
    "    # Higher accuracy for context-dependent tasks like NER\n",
    "    x = Bidirectional(\n",
    "        LSTM(\n",
    "            rnn_units,\n",
    "            return_sequences=True,\n",
    "            recurrent_dropout=0.0,\n",
    "            implementation=2  # potentially faster but less stable\n",
    "        )\n",
    "    )(x)\n",
    "\n",
    "    # Dropout for regularization\n",
    "    x = Dropout(0.3)(x)\n",
    "\n",
    "    # Output layer\n",
    "    output = TimeDistributed(Dense(num_tags, activation='softmax'))(x)\n",
    "\n",
    "    model = Model(inputs=inputs, outputs=output)\n",
    "    model.compile(\n",
    "        optimizer=Adam(learning_rate=lr),\n",
    "        loss='sparse_categorical_crossentropy',\n",
    "        metrics=['accuracy']\n",
    "    )\n",
    "\n",
    "    return model\n",
    "\n",
    "\n",
    "def bigru_model(max_len_seq, emb_size, rnn_units, num_tags, lr=0.001):\n",
    "    \"\"\"\n",
    "    Bidirectional GRU model - good balance between speed and accuracy\n",
    "\n",
    "    Args:\n",
    "        max_len_seq: Maximum sequence length\n",
    "        emb_size: Embedding size\n",
    "        rnn_units: Number of GRU units per direction\n",
    "        num_tags: Number of output tags\n",
    "        lr: Learning rate\n",
    "    \"\"\"\n",
    "    # Input layer\n",
    "    inputs = Input(shape=(max_len_seq, emb_size), dtype='float32')\n",
    "\n",
    "    # Projection layer\n",
    "    x = Dense(128, activation='relu')(inputs)\n",
    "\n",
    "    # Bidirectional GRU - faster than LSTM with similar capabilities\n",
    "    x = Bidirectional(\n",
    "        GRU(\n",
    "            rnn_units,\n",
    "            return_sequences=True,\n",
    "            recurrent_dropout=0.0,\n",
    "            reset_after=True  # modern GRU implementation\n",
    "        )\n",
    "    )(x)\n",
    "\n",
    "    # Dropout for regularization\n",
    "    x = Dropout(0.2)(x)\n",
    "\n",
    "    # Output layer\n",
    "    output = TimeDistributed(Dense(num_tags, activation='softmax'))(x)\n",
    "\n",
    "    model = Model(inputs=inputs, outputs=output)\n",
    "    model.compile(\n",
    "        optimizer=Adam(learning_rate=lr),\n",
    "        loss='sparse_categorical_crossentropy',\n",
    "        metrics=['accuracy']\n",
    "    )\n",
    "\n",
    "    return model\n"
   ]
  },
  {
   "cell_type": "code",
   "execution_count": 2,
   "id": "6b0d939b-d3ef-4389-b062-8e5788bf1c50",
   "metadata": {},
   "outputs": [],
   "source": [
    "# Force CPU usage for memory-intensive operations\n",
    "# os.environ[\"CUDA_VISIBLE_DEVICES\"] = \"-1\"  # Use CPU for data preparation\n",
    "\n",
    "def simple_rnn_model(max_len_seq, emb_size, rnn_units, num_tags, lr=0.001):\n",
    "    \"\"\"\n",
    "    SimpleRNN model for NER - fastest training, but typically lower accuracy\n",
    "\n",
    "    Args:\n",
    "        max_len_seq: Maximum sequence length\n",
    "        emb_size: Embedding size\n",
    "        rnn_units: Number of RNN units\n",
    "        num_tags: Number of output tags\n",
    "        lr: Learning rate\n",
    "    \"\"\"\n",
    "    # Input layer\n",
    "    inputs = Input(shape=(max_len_seq, emb_size), dtype='float32')\n",
    "\n",
    "    # Optional projection to reduce dimensions\n",
    "    x = Dense(128, activation='relu')(inputs)\n",
    "\n",
    "    # SimpleRNN layer - fastest but less capable for sequence modeling\n",
    "    x = tf.keras.layers.SimpleRNN(rnn_units, return_sequences=True)(x)\n",
    "\n",
    "    # Dropout for regularization\n",
    "    x = Dropout(0.2)(x)\n",
    "\n",
    "    # Output layer with softmax activation for tag prediction\n",
    "    output = TimeDistributed(Dense(num_tags, activation='softmax'))(x)\n",
    "\n",
    "    model = Model(inputs=inputs, outputs=output)\n",
    "\n",
    "    model.compile(\n",
    "        optimizer=Adam(learning_rate=lr),\n",
    "        loss='sparse_categorical_crossentropy',\n",
    "        metrics=['accuracy']\n",
    "    )\n",
    "\n",
    "    return model\n"
   ]
  },
  {
   "cell_type": "code",
   "execution_count": 152,
   "id": "8f15eb71",
   "metadata": {},
   "outputs": [],
   "source": [
    "def create_optimized_dataset(X, y, batch_size=16, shuffle=False, buffer_size=1000):\n",
    "    dataset = tf.data.Dataset.from_tensor_slices((X, y))\n",
    "    if shuffle:\n",
    "        dataset = dataset.shuffle(buffer_size)\n",
    "    dataset = dataset.batch(batch_size)\n",
    "    dataset = dataset.prefetch(tf.data.AUTOTUNE)\n",
    "    return dataset\n",
    "\n"
   ]
  },
  {
   "cell_type": "markdown",
   "id": "0f7758d2",
   "metadata": {},
   "source": [
    "## Model Configuration – Arsitektur BilSTM (Bisa dipilih sesuai kebutuhan)"
   ]
  },
  {
   "cell_type": "code",
   "execution_count": 153,
   "id": "3e90c589",
   "metadata": {},
   "outputs": [
    {
     "data": {
      "text/html": [
       "<pre style=\"white-space:pre;overflow-x:auto;line-height:normal;font-family:Menlo,'DejaVu Sans Mono',consolas,'Courier New',monospace\"><span style=\"font-weight: bold\">Model: \"functional_3\"</span>\n",
       "</pre>\n"
      ],
      "text/plain": [
       "\u001b[1mModel: \"functional_3\"\u001b[0m\n"
      ]
     },
     "metadata": {},
     "output_type": "display_data"
    },
    {
     "data": {
      "text/html": [
       "<pre style=\"white-space:pre;overflow-x:auto;line-height:normal;font-family:Menlo,'DejaVu Sans Mono',consolas,'Courier New',monospace\">┏━━━━━━━━━━━━━━━━━━━━━━━━━━━━━━━━━┳━━━━━━━━━━━━━━━━━━━━━━━━┳━━━━━━━━━━━━━━━┓\n",
       "┃<span style=\"font-weight: bold\"> Layer (type)                    </span>┃<span style=\"font-weight: bold\"> Output Shape           </span>┃<span style=\"font-weight: bold\">       Param # </span>┃\n",
       "┡━━━━━━━━━━━━━━━━━━━━━━━━━━━━━━━━━╇━━━━━━━━━━━━━━━━━━━━━━━━╇━━━━━━━━━━━━━━━┩\n",
       "│ input_layer_3 (<span style=\"color: #0087ff; text-decoration-color: #0087ff\">InputLayer</span>)      │ (<span style=\"color: #00d7ff; text-decoration-color: #00d7ff\">None</span>, <span style=\"color: #00af00; text-decoration-color: #00af00\">128</span>, <span style=\"color: #00af00; text-decoration-color: #00af00\">50</span>)        │             <span style=\"color: #00af00; text-decoration-color: #00af00\">0</span> │\n",
       "├─────────────────────────────────┼────────────────────────┼───────────────┤\n",
       "│ dense_6 (<span style=\"color: #0087ff; text-decoration-color: #0087ff\">Dense</span>)                 │ (<span style=\"color: #00d7ff; text-decoration-color: #00d7ff\">None</span>, <span style=\"color: #00af00; text-decoration-color: #00af00\">128</span>, <span style=\"color: #00af00; text-decoration-color: #00af00\">128</span>)       │         <span style=\"color: #00af00; text-decoration-color: #00af00\">6,528</span> │\n",
       "├─────────────────────────────────┼────────────────────────┼───────────────┤\n",
       "│ bidirectional_3 (<span style=\"color: #0087ff; text-decoration-color: #0087ff\">Bidirectional</span>) │ (<span style=\"color: #00d7ff; text-decoration-color: #00d7ff\">None</span>, <span style=\"color: #00af00; text-decoration-color: #00af00\">128</span>, <span style=\"color: #00af00; text-decoration-color: #00af00\">128</span>)       │        <span style=\"color: #00af00; text-decoration-color: #00af00\">98,816</span> │\n",
       "├─────────────────────────────────┼────────────────────────┼───────────────┤\n",
       "│ dropout_3 (<span style=\"color: #0087ff; text-decoration-color: #0087ff\">Dropout</span>)             │ (<span style=\"color: #00d7ff; text-decoration-color: #00d7ff\">None</span>, <span style=\"color: #00af00; text-decoration-color: #00af00\">128</span>, <span style=\"color: #00af00; text-decoration-color: #00af00\">128</span>)       │             <span style=\"color: #00af00; text-decoration-color: #00af00\">0</span> │\n",
       "├─────────────────────────────────┼────────────────────────┼───────────────┤\n",
       "│ time_distributed_3              │ (<span style=\"color: #00d7ff; text-decoration-color: #00d7ff\">None</span>, <span style=\"color: #00af00; text-decoration-color: #00af00\">128</span>, <span style=\"color: #00af00; text-decoration-color: #00af00\">15</span>)        │         <span style=\"color: #00af00; text-decoration-color: #00af00\">1,935</span> │\n",
       "│ (<span style=\"color: #0087ff; text-decoration-color: #0087ff\">TimeDistributed</span>)               │                        │               │\n",
       "└─────────────────────────────────┴────────────────────────┴───────────────┘\n",
       "</pre>\n"
      ],
      "text/plain": [
       "┏━━━━━━━━━━━━━━━━━━━━━━━━━━━━━━━━━┳━━━━━━━━━━━━━━━━━━━━━━━━┳━━━━━━━━━━━━━━━┓\n",
       "┃\u001b[1m \u001b[0m\u001b[1mLayer (type)                   \u001b[0m\u001b[1m \u001b[0m┃\u001b[1m \u001b[0m\u001b[1mOutput Shape          \u001b[0m\u001b[1m \u001b[0m┃\u001b[1m \u001b[0m\u001b[1m      Param #\u001b[0m\u001b[1m \u001b[0m┃\n",
       "┡━━━━━━━━━━━━━━━━━━━━━━━━━━━━━━━━━╇━━━━━━━━━━━━━━━━━━━━━━━━╇━━━━━━━━━━━━━━━┩\n",
       "│ input_layer_3 (\u001b[38;5;33mInputLayer\u001b[0m)      │ (\u001b[38;5;45mNone\u001b[0m, \u001b[38;5;34m128\u001b[0m, \u001b[38;5;34m50\u001b[0m)        │             \u001b[38;5;34m0\u001b[0m │\n",
       "├─────────────────────────────────┼────────────────────────┼───────────────┤\n",
       "│ dense_6 (\u001b[38;5;33mDense\u001b[0m)                 │ (\u001b[38;5;45mNone\u001b[0m, \u001b[38;5;34m128\u001b[0m, \u001b[38;5;34m128\u001b[0m)       │         \u001b[38;5;34m6,528\u001b[0m │\n",
       "├─────────────────────────────────┼────────────────────────┼───────────────┤\n",
       "│ bidirectional_3 (\u001b[38;5;33mBidirectional\u001b[0m) │ (\u001b[38;5;45mNone\u001b[0m, \u001b[38;5;34m128\u001b[0m, \u001b[38;5;34m128\u001b[0m)       │        \u001b[38;5;34m98,816\u001b[0m │\n",
       "├─────────────────────────────────┼────────────────────────┼───────────────┤\n",
       "│ dropout_3 (\u001b[38;5;33mDropout\u001b[0m)             │ (\u001b[38;5;45mNone\u001b[0m, \u001b[38;5;34m128\u001b[0m, \u001b[38;5;34m128\u001b[0m)       │             \u001b[38;5;34m0\u001b[0m │\n",
       "├─────────────────────────────────┼────────────────────────┼───────────────┤\n",
       "│ time_distributed_3              │ (\u001b[38;5;45mNone\u001b[0m, \u001b[38;5;34m128\u001b[0m, \u001b[38;5;34m15\u001b[0m)        │         \u001b[38;5;34m1,935\u001b[0m │\n",
       "│ (\u001b[38;5;33mTimeDistributed\u001b[0m)               │                        │               │\n",
       "└─────────────────────────────────┴────────────────────────┴───────────────┘\n"
      ]
     },
     "metadata": {},
     "output_type": "display_data"
    },
    {
     "data": {
      "text/html": [
       "<pre style=\"white-space:pre;overflow-x:auto;line-height:normal;font-family:Menlo,'DejaVu Sans Mono',consolas,'Courier New',monospace\"><span style=\"font-weight: bold\"> Total params: </span><span style=\"color: #00af00; text-decoration-color: #00af00\">107,279</span> (419.06 KB)\n",
       "</pre>\n"
      ],
      "text/plain": [
       "\u001b[1m Total params: \u001b[0m\u001b[38;5;34m107,279\u001b[0m (419.06 KB)\n"
      ]
     },
     "metadata": {},
     "output_type": "display_data"
    },
    {
     "data": {
      "text/html": [
       "<pre style=\"white-space:pre;overflow-x:auto;line-height:normal;font-family:Menlo,'DejaVu Sans Mono',consolas,'Courier New',monospace\"><span style=\"font-weight: bold\"> Trainable params: </span><span style=\"color: #00af00; text-decoration-color: #00af00\">107,279</span> (419.06 KB)\n",
       "</pre>\n"
      ],
      "text/plain": [
       "\u001b[1m Trainable params: \u001b[0m\u001b[38;5;34m107,279\u001b[0m (419.06 KB)\n"
      ]
     },
     "metadata": {},
     "output_type": "display_data"
    },
    {
     "data": {
      "text/html": [
       "<pre style=\"white-space:pre;overflow-x:auto;line-height:normal;font-family:Menlo,'DejaVu Sans Mono',consolas,'Courier New',monospace\"><span style=\"font-weight: bold\"> Non-trainable params: </span><span style=\"color: #00af00; text-decoration-color: #00af00\">0</span> (0.00 B)\n",
       "</pre>\n"
      ],
      "text/plain": [
       "\u001b[1m Non-trainable params: \u001b[0m\u001b[38;5;34m0\u001b[0m (0.00 B)\n"
      ]
     },
     "metadata": {},
     "output_type": "display_data"
    }
   ],
   "source": [
    "# Buat dataset untuk training dan validasi\n",
    "batch_size = 16\n",
    "train_dataset = create_optimized_dataset(X_train, y_train, batch_size=batch_size, shuffle=True)\n",
    "val_dataset = create_optimized_dataset(X_valid, y_valid, batch_size=batch_size)\n",
    "\n",
    "# Konfigurasi callbacks\n",
    "callbacks = [\n",
    "    tf.keras.callbacks.EarlyStopping(monitor='val_loss', patience=3, restore_best_weights=True),\n",
    "    tf.keras.callbacks.ReduceLROnPlateau(monitor='val_loss', factor=0.5, patience=1, min_lr=1e-4)\n",
    "]\n",
    "\n",
    "def get_model(selected_model, max_len_seq, emb_size, rnn_units, num_tags, lr=0.001):\n",
    "    if selected_model == 'BiLSTM':\n",
    "        return bilstm_model(max_len_seq, emb_size, rnn_units, num_tags, lr)\n",
    "    elif selected_model == 'BiGRU':\n",
    "        return bigru_model(max_len_seq, emb_size, rnn_units, num_tags, lr)\n",
    "    elif selected_model == 'SimpleRNN':\n",
    "        return simple_rnn_model(max_len_seq, emb_size, rnn_units, num_tags, lr)\n",
    "    else:\n",
    "        raise ValueError(\"Model tidak dikenali. Pilih dari: 'BiLSTM', 'BiGRU', 'SimpleRNN'\")\n",
    "\n",
    "# Pilihan model yang tersedia\n",
    "selected_model = 'BiLSTM'  # Bisa diganti menjadi 'BiGRU' atau 'SimpleRNN'\n",
    "\n",
    "# Dapatkan model berdasarkan pilihan\n",
    "model = get_model(\n",
    "    selected_model=selected_model,\n",
    "    max_len_seq=X_train.shape[1],\n",
    "    emb_size=X_train.shape[2],\n",
    "    rnn_units=64,\n",
    "    num_tags=num_tags,\n",
    "    lr=0.001\n",
    ")\n",
    "\n",
    "# Tampilkan ringkasan model\n",
    "model.summary()"
   ]
  },
  {
   "cell_type": "markdown",
   "id": "434ff9c1",
   "metadata": {},
   "source": [
    "## Training Model dengan EarlyStopping"
   ]
  },
  {
   "cell_type": "code",
   "execution_count": 154,
   "id": "260821dd",
   "metadata": {},
   "outputs": [
    {
     "name": "stdout",
     "output_type": "stream",
     "text": [
      "Epoch 1/3\n",
      "\u001b[1m38/38\u001b[0m \u001b[32m━━━━━━━━━━━━━━━━━━━━\u001b[0m\u001b[37m\u001b[0m \u001b[1m9s\u001b[0m 74ms/step - accuracy: 0.8041 - loss: 1.9755 - val_accuracy: 0.9092 - val_loss: 0.3475 - learning_rate: 0.0010\n",
      "Epoch 2/3\n",
      "\u001b[1m38/38\u001b[0m \u001b[32m━━━━━━━━━━━━━━━━━━━━\u001b[0m\u001b[37m\u001b[0m \u001b[1m2s\u001b[0m 45ms/step - accuracy: 0.9279 - loss: 0.3052 - val_accuracy: 0.9430 - val_loss: 0.2315 - learning_rate: 0.0010\n",
      "Epoch 3/3\n",
      "\u001b[1m38/38\u001b[0m \u001b[32m━━━━━━━━━━━━━━━━━━━━\u001b[0m\u001b[37m\u001b[0m \u001b[1m2s\u001b[0m 46ms/step - accuracy: 0.9434 - loss: 0.2226 - val_accuracy: 0.9431 - val_loss: 0.2052 - learning_rate: 0.0010\n"
     ]
    }
   ],
   "source": [
    "# Training model\n",
    "history = model.fit(\n",
    "    train_dataset,\n",
    "    validation_data=val_dataset,\n",
    "    epochs=3,\n",
    "    callbacks=callbacks,\n",
    "    verbose=1\n",
    ")\n"
   ]
  },
  {
   "cell_type": "markdown",
   "id": "30f3d58a",
   "metadata": {},
   "source": [
    "## Simpan Metrics Training ke DataFrame"
   ]
  },
  {
   "cell_type": "code",
   "execution_count": 155,
   "id": "07baed76",
   "metadata": {},
   "outputs": [],
   "source": [
    "import pandas as pd\n",
    "\n",
    "# Simpan history training ke CSV\n",
    "history_df = pd.DataFrame(history.history)\n",
    "history_df.to_csv(f\"history_{selected_model}.csv\", index=False)"
   ]
  },
  {
   "cell_type": "markdown",
   "id": "6a6e088d",
   "metadata": {},
   "source": [
    "## Visualisasi Loss dan Accuracy"
   ]
  },
  {
   "cell_type": "code",
   "execution_count": 156,
   "id": "3ef09daa",
   "metadata": {},
   "outputs": [
    {
     "data": {
      "image/png": "[encoded data removed]",
      "text/plain": [
       "<Figure size 1200x500 with 2 Axes>"
      ]
     },
     "metadata": {},
     "output_type": "display_data"
    }
   ],
   "source": [
    "import matplotlib.pyplot as plt\n",
    "\n",
    "plt.figure(figsize=(12, 5))\n",
    "\n",
    "# Plot loss\n",
    "plt.subplot(1, 2, 1)\n",
    "plt.plot(history.history['loss'], label='Train Loss')\n",
    "plt.plot(history.history['val_loss'], label='Val Loss')\n",
    "plt.title(f'{selected_model} - Loss Curve')\n",
    "plt.xlabel('Epoch')\n",
    "plt.ylabel('Loss')\n",
    "plt.legend()\n",
    "\n",
    "# Plot accuracy\n",
    "plt.subplot(1, 2, 2)\n",
    "plt.plot(history.history['accuracy'], label='Train Accuracy')\n",
    "plt.plot(history.history['val_accuracy'], label='Val Accuracy')\n",
    "plt.title(f'{selected_model} - Accuracy Curve')\n",
    "plt.xlabel('Epoch')\n",
    "plt.ylabel('Accuracy')\n",
    "plt.legend()\n",
    "\n",
    "plt.tight_layout()\n",
    "plt.savefig(f\"{selected_model}_training_plot.png\")\n",
    "plt.show()\n"
   ]
  }
 ],
 "metadata": {
  "kernelspec": {
   "display_name": "Untuk Pengolahan Bahasa Alami",
   "language": "python",
   "name": "kernel_bahasa_alami"
  },
  "language_info": {
   "codemirror_mode": {
    "name": "ipython",
    "version": 3
   },
   "file_extension": ".py",
   "mimetype": "text/x-python",
   "name": "python",
   "nbconvert_exporter": "python",
   "pygments_lexer": "ipython3",
   "version": "3.12.6"
  }
 },
 "nbformat": 4,
 "nbformat_minor": 5
}
