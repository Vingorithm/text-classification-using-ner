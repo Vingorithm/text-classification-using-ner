{
 "cells": [
  {
   "cell_type": "markdown",
   "id": "06336b06-2112-47b9-8236-f06295493a89",
   "metadata": {},
   "source": [
    "# **Ujian Akhir Semester - Pengolahan Bahasa Alami**\n",
    "\n",
    "## Anggota Kelompok:\n",
    "- **Kevin Philips Tanamas** (220711789)  \n",
    "- **Richard Angelico** (220711747)\n",
    "- **Anthony Alvin Nathaniel** (220711773)\n",
    "- **Nicholas Raymond Thosimaru** (220712111)\n",
    "- **Maria** (220711969)"
   ]
  },
  {
   "cell_type": "markdown",
   "id": "2200e11b-1806-4bca-abd3-6b004f206437",
   "metadata": {},
   "source": [
    "## Library Import"
   ]
  },
  {
   "cell_type": "code",
   "execution_count": 13,
   "id": "a508b82b-34f9-4db8-a939-dfdf73faf7aa",
   "metadata": {},
   "outputs": [],
   "source": [
    "import os\n",
    "os.environ['TF_GPU_ALLOCATOR'] = 'cuda_malloc_async'\n",
    "\n",
    "import gc\n",
    "import fasttext\n",
    "import pandas as pd\n",
    "import numpy as np\n",
    "import matplotlib.pyplot as plt\n",
    "import seaborn as sns\n",
    "from tqdm import tqdm\n",
    "\n",
    "from sklearn.metrics import confusion_matrix\n",
    "from seqeval.scheme import BILOU\n",
    "from seqeval.metrics import classification_report, f1_score\n",
    "\n",
    "import tensorflow as tf\n",
    "from tensorflow.keras.callbacks import EarlyStopping\n",
    "from tensorflow.keras.optimizers import Adam\n",
    "from tensorflow.keras.models import Model\n",
    "from tensorflow.keras.layers import Input, Bidirectional, LSTM, GRU, Dense, TimeDistributed, Dropout\n",
    "from collections import Counter\n",
    "from sklearn.model_selection import train_test_split\n",
    "\n",
    "tqdm.pandas()"
   ]
  },
  {
   "cell_type": "markdown",
   "id": "7acc946f-13b3-4ad2-a55e-aa26aa1ee59b",
   "metadata": {},
   "source": [
    "## Data Loading Function"
   ]
  },
  {
   "cell_type": "code",
   "execution_count": 14,
   "id": "6b0d939b-d3ef-4389-b062-8e5788bf1c50",
   "metadata": {},
   "outputs": [],
   "source": [
    "# Force CPU usage for memory-intensive operations\n",
    "# os.environ[\"CUDA_VISIBLE_DEVICES\"] = \"-1\"  # Use CPU for data preparation\n",
    "\n",
    "# Data loading function\n",
    "def load_data(filename):\n",
    "    sentences, labels = [], []\n",
    "    sentence, label = [], []\n",
    "    with open(filename, 'r', encoding='utf-8') as file:\n",
    "        for line in file:\n",
    "            if line.strip() == '':\n",
    "                if sentence:\n",
    "                    sentences.append(sentence)\n",
    "                    labels.append(label)\n",
    "                    sentence, label = [], []\n",
    "            else:\n",
    "                parts = line.strip().split()\n",
    "                if len(parts) == 2:\n",
    "                    word, tag = parts\n",
    "                    sentence.append(word)\n",
    "                    label.append(tag)\n",
    "    return sentences, labels\n",
    "\n",
    "\n",
    "def simple_rnn_model(max_len_seq, emb_size, rnn_units, num_tags, lr=0.001):\n",
    "    \"\"\"\n",
    "    SimpleRNN model for NER - fastest training, but typically lower accuracy\n",
    "\n",
    "    Args:\n",
    "        max_len_seq: Maximum sequence length\n",
    "        emb_size: Embedding size\n",
    "        rnn_units: Number of RNN units\n",
    "        num_tags: Number of output tags\n",
    "        lr: Learning rate\n",
    "    \"\"\"\n",
    "    # Input layer\n",
    "    inputs = Input(shape=(max_len_seq, emb_size), dtype='float32')\n",
    "\n",
    "    # Optional projection to reduce dimensions\n",
    "    x = Dense(128, activation='relu')(inputs)\n",
    "\n",
    "    # SimpleRNN layer - fastest but less capable for sequence modeling\n",
    "    x = tf.keras.layers.SimpleRNN(rnn_units, return_sequences=True)(x)\n",
    "\n",
    "    # Dropout for regularization\n",
    "    x = Dropout(0.2)(x)\n",
    "\n",
    "    # Output layer with softmax activation for tag prediction\n",
    "    output = TimeDistributed(Dense(num_tags, activation='softmax'))(x)\n",
    "\n",
    "    model = Model(inputs=inputs, outputs=output)\n",
    "\n",
    "    model.compile(\n",
    "        optimizer=Adam(learning_rate=lr),\n",
    "        loss='sparse_categorical_crossentropy',\n",
    "        metrics=['accuracy']\n",
    "    )\n",
    "\n",
    "    return model\n"
   ]
  },
  {
   "cell_type": "markdown",
   "id": "fb5e8792-f273-4de0-bdf4-498e802239b0",
   "metadata": {},
   "source": [
    "## Load Data"
   ]
  },
  {
   "cell_type": "code",
   "execution_count": 15,
   "id": "17ed5aff-f749-4270-96af-58036e6b2321",
   "metadata": {},
   "outputs": [],
   "source": [
    "def insert_blank_lines(input_path, output_path):\n",
    "    with open(input_path, 'r', encoding='utf-8') as infile, open(output_path, 'w', encoding='utf-8') as outfile:\n",
    "        for line in infile:\n",
    "            outfile.write(line)\n",
    "            if line.strip().endswith(('.-O', '!-O', '?-O')):\n",
    "                outfile.write('\\n')  # Tambahkan baris kosong\n",
    "\n",
    "# Jalankan ini sekali untuk membuat file baru yang sudah dipisah\n",
    "insert_blank_lines(\"dataset_betawi.txt\", \"dataset_betawi_split.txt\")"
   ]
  },
  {
   "cell_type": "code",
   "execution_count": 16,
   "id": "78faab94-951b-4dc5-b840-2a53f5a1b25d",
   "metadata": {},
   "outputs": [],
   "source": [
    "def load_data(file_path):\n",
    "    sentences = []\n",
    "    labels = []\n",
    "    sentence = []\n",
    "    label_seq = []\n",
    "\n",
    "    with open(file_path, 'r', encoding='utf-8') as f:\n",
    "        for line in f:\n",
    "            line = line.strip()\n",
    "            if not line:\n",
    "                # Baris kosong = akhir kalimat\n",
    "                if sentence:\n",
    "                    sentences.append(sentence)\n",
    "                    labels.append(label_seq)\n",
    "                    sentence = []\n",
    "                    label_seq = []\n",
    "                continue\n",
    "\n",
    "            # Hapus nomor dan titik dua di depan (contoh: \"12: Ane-O\")\n",
    "            if \":\" in line:\n",
    "                line = line.split(\":\", 1)[1].strip()\n",
    "\n",
    "            if \"-\" not in line:\n",
    "                continue\n",
    "\n",
    "            token, tag = line.rsplit(\"-\", 1)\n",
    "            sentence.append(token)\n",
    "            label_seq.append(tag)\n",
    "\n",
    "        # Tambahkan kalimat terakhir jika ada\n",
    "        if sentence:\n",
    "            sentences.append(sentence)\n",
    "            labels.append(label_seq)\n",
    "\n",
    "    return sentences, labels"
   ]
  },
  {
   "cell_type": "code",
   "execution_count": 17,
   "id": "f6b167ad-3750-4389-8029-9a54553dd6e5",
   "metadata": {},
   "outputs": [
    {
     "name": "stdout",
     "output_type": "stream",
     "text": [
      "1: Ane-O\n",
      "2: pake-O\n",
      "3: Honda-B-PRODUCT\n",
      "4: Jazz-I-PRODUCT\n",
      "5: GK5-I-PRODUCT\n",
      "6: 2014-L-PRODUCT\n",
      "7: (-O\n",
      "8: pertama-O\n",
      "9: diluncurkan-O\n",
      "10: )-O\n",
      "11: .-O\n",
      "12: \n",
      "13: Mobilnya-B-OTHERS_POSITIVE\n",
      "14: bagus-I-OTHERS_POSITIVE\n",
      "15: dan-I-OTHERS_POSITIVE\n",
      "16: bagus-I-OTHERS_POSITIVE\n",
      "17: sesuai-I-OTHERS_POSITIVE\n",
      "18: motto-I-OTHERS_POSITIVE\n",
      "19: ,-I-OTHERS_POSITIVE\n",
      "20: asik-I-OTHERS_POSITIVE\n"
     ]
    }
   ],
   "source": [
    "with open(\"./dataset_betawi_split.txt\", \"r\", encoding=\"utf-8\") as f:\n",
    "    lines = f.readlines()\n",
    "\n",
    "for i, line in enumerate(lines[:20]):\n",
    "    print(f\"{i+1}: {line.strip()}\")\n"
   ]
  },
  {
   "cell_type": "code",
   "execution_count": 18,
   "id": "f8517eb9-026d-4ca1-ba75-e10ce97b6f23",
   "metadata": {},
   "outputs": [
    {
     "name": "stdout",
     "output_type": "stream",
     "text": [
      "Loaded 867 samples.\n",
      "Train: 606, Valid: 130, Test: 131\n"
     ]
    }
   ],
   "source": [
    "# Load all data\n",
    "full_file = \"./dataset_betawi_split.txt\"\n",
    "sentences, labels = load_data(full_file)\n",
    "\n",
    "# Check if data loaded\n",
    "print(f\"Loaded {len(sentences)} samples.\")\n",
    "\n",
    "# Split into train (70%) and temp (30%)\n",
    "train_sentences, temp_sentences, train_labels, temp_labels = train_test_split(\n",
    "    sentences, labels, test_size=0.3, random_state=42\n",
    ")\n",
    "\n",
    "# Split temp into validation (15%) and test (15%)\n",
    "valid_sentences, test_sentences, valid_labels, test_labels = train_test_split(\n",
    "    temp_sentences, temp_labels, test_size=0.5, random_state=42\n",
    ")\n",
    "\n",
    "# Create dataframes\n",
    "train_df = pd.DataFrame({'tokens': train_sentences, 'tags': train_labels})\n",
    "valid_df = pd.DataFrame({'tokens': valid_sentences, 'tags': valid_labels})\n",
    "test_df = pd.DataFrame({'tokens': test_sentences, 'tags': test_labels})\n",
    "\n",
    "# Print sizes\n",
    "print(f\"Train: {len(train_df)}, Valid: {len(valid_df)}, Test: {len(test_df)}\")\n"
   ]
  },
  {
   "cell_type": "markdown",
   "id": "30a69899-1bf6-4180-9a27-219b2bd2c91f",
   "metadata": {},
   "source": [
    "## Data Checking (Liat Semua Tags) & Visualization"
   ]
  },
  {
   "cell_type": "code",
   "execution_count": 19,
   "id": "3bf249be-fdec-46cf-a8da-e01a5fb7ebd3",
   "metadata": {},
   "outputs": [
    {
     "name": "stdout",
     "output_type": "stream",
     "text": [
      "Total tags in training: 11221\n",
      "Tag distribution in training set:\n",
      "O                   6845\n",
      "PRODUCT             1093\n",
      "OTHERS_POSITIVE      697\n",
      "MACHINE_POSITIVE     471\n",
      "PART_POSITIVE        441\n",
      "PART_NEGATIVE        310\n",
      "FUEL_POSITIVE        306\n",
      "PRICE_POSITIVE       227\n",
      "SERVICE_POSITIVE     214\n",
      "SERVICE_NEGATIVE     193\n",
      "Name: count, dtype: int64\n"
     ]
    }
   ],
   "source": [
    "# Set all tags (flattened) from training labels\n",
    "all_tags_flat = [tag for seq in train_labels for tag in seq]\n",
    "\n",
    "print(f\"Total tags in training: {len(all_tags_flat)}\")\n",
    "\n",
    "print(\"Tag distribution in training set:\")\n",
    "tag_counts = pd.Series(all_tags_flat).value_counts()\n",
    "print(tag_counts.head(10))"
   ]
  },
  {
   "cell_type": "code",
   "execution_count": 20,
   "id": "543b6264-cf03-4385-a194-61dff83678ed",
   "metadata": {},
   "outputs": [
    {
     "name": "stderr",
     "output_type": "stream",
     "text": [
      "C:\\Users\\alvin\\AppData\\Roaming\\Python\\Python39\\site-packages\\seaborn\\_oldcore.py:1498: FutureWarning: is_categorical_dtype is deprecated and will be removed in a future version. Use isinstance(dtype, CategoricalDtype) instead\n",
      "  if pd.api.types.is_categorical_dtype(vector):\n",
      "C:\\Users\\alvin\\AppData\\Roaming\\Python\\Python39\\site-packages\\seaborn\\_oldcore.py:1498: FutureWarning: is_categorical_dtype is deprecated and will be removed in a future version. Use isinstance(dtype, CategoricalDtype) instead\n",
      "  if pd.api.types.is_categorical_dtype(vector):\n",
      "C:\\Users\\alvin\\AppData\\Roaming\\Python\\Python39\\site-packages\\seaborn\\_oldcore.py:1498: FutureWarning: is_categorical_dtype is deprecated and will be removed in a future version. Use isinstance(dtype, CategoricalDtype) instead\n",
      "  if pd.api.types.is_categorical_dtype(vector):\n"
     ]
    },
    {
     "data": {
      "image/png": "[encoded data removed]",
      "text/plain": [
       "<Figure size 1000x600 with 1 Axes>"
      ]
     },
     "metadata": {},
     "output_type": "display_data"
    }
   ],
   "source": [
    "plt.figure(figsize=(10, 6))\n",
    "sns.barplot(x=tag_counts.values, y=tag_counts.index, palette=\"viridis\")\n",
    "plt.title(\"Distribusi Tag di Dataset\")\n",
    "plt.xlabel(\"Jumlah Token\")\n",
    "plt.ylabel(\"Tag\")\n",
    "plt.tight_layout()\n",
    "plt.show()"
   ]
  },
  {
   "cell_type": "code",
   "execution_count": 21,
   "id": "5174270a-2e42-4e56-bed9-3fe412baf690",
   "metadata": {},
   "outputs": [
    {
     "name": "stderr",
     "output_type": "stream",
     "text": [
      "C:\\Users\\alvin\\AppData\\Roaming\\Python\\Python39\\site-packages\\seaborn\\_oldcore.py:1498: FutureWarning: is_categorical_dtype is deprecated and will be removed in a future version. Use isinstance(dtype, CategoricalDtype) instead\n",
      "  if pd.api.types.is_categorical_dtype(vector):\n",
      "C:\\Users\\alvin\\AppData\\Roaming\\Python\\Python39\\site-packages\\seaborn\\_oldcore.py:1119: FutureWarning: use_inf_as_na option is deprecated and will be removed in a future version. Convert inf values to NaN before operating instead.\n",
      "  with pd.option_context('mode.use_inf_as_na', True):\n"
     ]
    },
    {
     "data": {
      "image/png": "[encoded data removed]",
      "text/plain": [
       "<Figure size 800x500 with 1 Axes>"
      ]
     },
     "metadata": {},
     "output_type": "display_data"
    }
   ],
   "source": [
    "train_lengths = [len(seq) for seq in train_sentences]\n",
    "\n",
    "plt.figure(figsize=(8, 5))\n",
    "sns.histplot(train_lengths, bins=20, kde=True)\n",
    "plt.title(\"Distribusi Panjang Kalimat di Dataset\")\n",
    "plt.xlabel(\"Jumlah Token per Kalimat\")\n",
    "plt.ylabel(\"Jumlah Kalimat\")\n",
    "plt.tight_layout()\n",
    "plt.show()"
   ]
  },
  {
   "cell_type": "code",
   "execution_count": 22,
   "id": "cef56b69-225f-4aac-ba77-74bca50dd761",
   "metadata": {},
   "outputs": [
    {
     "name": "stderr",
     "output_type": "stream",
     "text": [
      "C:\\Users\\alvin\\AppData\\Roaming\\Python\\Python39\\site-packages\\seaborn\\_oldcore.py:1498: FutureWarning: is_categorical_dtype is deprecated and will be removed in a future version. Use isinstance(dtype, CategoricalDtype) instead\n",
      "  if pd.api.types.is_categorical_dtype(vector):\n",
      "C:\\Users\\alvin\\AppData\\Roaming\\Python\\Python39\\site-packages\\seaborn\\_oldcore.py:1498: FutureWarning: is_categorical_dtype is deprecated and will be removed in a future version. Use isinstance(dtype, CategoricalDtype) instead\n",
      "  if pd.api.types.is_categorical_dtype(vector):\n",
      "C:\\Users\\alvin\\AppData\\Roaming\\Python\\Python39\\site-packages\\seaborn\\_oldcore.py:1498: FutureWarning: is_categorical_dtype is deprecated and will be removed in a future version. Use isinstance(dtype, CategoricalDtype) instead\n",
      "  if pd.api.types.is_categorical_dtype(vector):\n"
     ]
    },
    {
     "data": {
      "image/png": "[encoded data removed]",
      "text/plain": [
       "<Figure size 1000x500 with 1 Axes>"
      ]
     },
     "metadata": {},
     "output_type": "display_data"
    }
   ],
   "source": [
    "all_tokens = [tok for seq in train_sentences for tok in seq]\n",
    "token_counts = Counter(all_tokens)\n",
    "common_tokens = pd.Series(dict(token_counts.most_common(10)))\n",
    "\n",
    "plt.figure(figsize=(10, 5))\n",
    "sns.barplot(x=common_tokens.values, y=common_tokens.index, palette=\"mako\")\n",
    "plt.title(\"10 Token Paling Sering Muncul di Dataset\")\n",
    "plt.xlabel(\"Frekuensi\")\n",
    "plt.ylabel(\"Token\")\n",
    "plt.tight_layout()\n",
    "plt.show()\n"
   ]
  },
  {
   "cell_type": "code",
   "execution_count": 23,
   "id": "6d4a6b69-a1c6-440c-b44d-84340e020e89",
   "metadata": {},
   "outputs": [
    {
     "name": "stderr",
     "output_type": "stream",
     "text": [
      "C:\\Users\\alvin\\AppData\\Roaming\\Python\\Python39\\site-packages\\seaborn\\_oldcore.py:1498: FutureWarning: is_categorical_dtype is deprecated and will be removed in a future version. Use isinstance(dtype, CategoricalDtype) instead\n",
      "  if pd.api.types.is_categorical_dtype(vector):\n",
      "C:\\Users\\alvin\\AppData\\Roaming\\Python\\Python39\\site-packages\\seaborn\\_oldcore.py:1498: FutureWarning: is_categorical_dtype is deprecated and will be removed in a future version. Use isinstance(dtype, CategoricalDtype) instead\n",
      "  if pd.api.types.is_categorical_dtype(vector):\n",
      "C:\\Users\\alvin\\AppData\\Roaming\\Python\\Python39\\site-packages\\seaborn\\_oldcore.py:1498: FutureWarning: is_categorical_dtype is deprecated and will be removed in a future version. Use isinstance(dtype, CategoricalDtype) instead\n",
      "  if pd.api.types.is_categorical_dtype(vector):\n"
     ]
    },
    {
     "data": {
      "image/png": "[encoded data removed]",
      "text/plain": [
       "<Figure size 600x400 with 1 Axes>"
      ]
     },
     "metadata": {},
     "output_type": "display_data"
    }
   ],
   "source": [
    "split_counts = pd.Series({\n",
    "    \"Train\": len(train_df),\n",
    "    \"Valid\": len(valid_df),\n",
    "    \"Test\": len(test_df)\n",
    "})\n",
    "\n",
    "plt.figure(figsize=(6, 4))\n",
    "sns.barplot(x=split_counts.index, y=split_counts.values, palette=\"deep\")\n",
    "plt.title(\"Jumlah Kalimat per Split Dataset\")\n",
    "plt.ylabel(\"Jumlah Kalimat\")\n",
    "plt.tight_layout()\n",
    "plt.show()"
   ]
  },
  {
   "cell_type": "markdown",
   "id": "bf9877d0-4181-45d8-a7d7-c05891c1128b",
   "metadata": {},
   "source": [
    "## Load FastText Model"
   ]
  },
  {
   "cell_type": "code",
   "execution_count": 24,
   "id": "45a454dd-b280-4928-ac65-2eab35e29409",
   "metadata": {},
   "outputs": [
    {
     "name": "stdout",
     "output_type": "stream",
     "text": [
      "Loading FastText model...\n",
      "FastText model loaded successfully.\n"
     ]
    },
    {
     "name": "stderr",
     "output_type": "stream",
     "text": [
      "Warning : `load_model` does not return WordVectorModel or SupervisedModel any more, but a `FastText` object which is very similar.\n"
     ]
    }
   ],
   "source": [
    "# Cek dan unduh FastText model jika belum tersedia\n",
    "if not os.path.exists('./cc.id.300.bin'):\n",
    "    print(\"FastText model not found. Downloading model (this may take a while)...\")\n",
    "    os.system(\"wget -c https://dl.fbaipublicfiles.com/fasttext/vectors-crawl/cc.id.300.bin.gz\")\n",
    "    os.system(\"gunzip cc.id.300.bin.gz\")\n",
    "    print(\"Download complete.\")\n",
    "\n",
    "# Load FastText model\n",
    "# Download file .bin https://dl.fbaipublicfiles.com/fasttext/vectors-crawl/cc.id.300.bin.gz\n",
    "# Extract file .gz\n",
    "# Pastikan file cc.id.300.bin ada di direktori yang sama dengan Jupyter Notebook ini\n",
    "print(\"Loading FastText model...\")\n",
    "ft = fasttext.load_model('./cc.id.300.bin')\n",
    "print(\"FastText model loaded successfully.\")\n",
    "\n",
    "# Set embedding size dan panjang maksimum urutan\n",
    "emb_size = 300\n",
    "max_seq_len = 128\n"
   ]
  },
  {
   "cell_type": "markdown",
   "id": "238ebecc",
   "metadata": {},
   "source": [
    "## Tag Mapping"
   ]
  },
  {
   "cell_type": "code",
   "execution_count": 25,
   "id": "b5a21514",
   "metadata": {},
   "outputs": [
    {
     "name": "stdout",
     "output_type": "stream",
     "text": [
      "Number of unique tags (including PAD): 15\n"
     ]
    }
   ],
   "source": [
    "from sklearn.preprocessing import LabelEncoder\n",
    "from sklearn.decomposition import PCA\n",
    "from tensorflow.keras.preprocessing.sequence import pad_sequences\n",
    "\n",
    "# Buat mapping tag ke ID\n",
    "all_tags = sorted(set(tag for seq in train_df['tags'] for tag in seq))\n",
    "tag2index = {tag: idx + 1 for idx, tag in enumerate(all_tags)}\n",
    "tag2index['PAD'] = 0\n",
    "index2tag = {idx: tag for tag, idx in tag2index.items()}\n",
    "\n",
    "num_tags = len(tag2index)\n",
    "\n",
    "# Fungsi untuk encoding dan padding label\n",
    "def encode_tags(tags, tag2index, max_len):\n",
    "    tag_ids = [tag2index.get(tag, tag2index['PAD']) for tag in tags]\n",
    "    return pad_sequences([tag_ids], maxlen=max_len, padding='post', value=tag2index['PAD'])[0]\n",
    "\n",
    "train_df['tag_ids'] = train_df['tags'].apply(lambda tags: encode_tags(tags, tag2index, max_seq_len))\n",
    "valid_df['tag_ids'] = valid_df['tags'].apply(lambda tags: encode_tags(tags, tag2index, max_seq_len))\n",
    "test_df['tag_ids'] = test_df['tags'].apply(lambda tags: encode_tags(tags, tag2index, max_seq_len))\n",
    "\n",
    "print(f\"Number of unique tags (including PAD): {num_tags}\")"
   ]
  },
  {
   "cell_type": "markdown",
   "id": "2a9a3f61-cb23-4fad-960e-1daf6553dd58",
   "metadata": {},
   "source": [
    "## Word Embeddings Function"
   ]
  },
  {
   "cell_type": "code",
   "execution_count": 26,
   "id": "0468227d-66ec-4b46-8c00-b3108ca3e13b",
   "metadata": {},
   "outputs": [
    {
     "name": "stdout",
     "output_type": "stream",
     "text": [
      "Creating word embeddings...\n"
     ]
    },
    {
     "name": "stderr",
     "output_type": "stream",
     "text": [
      "100%|██████████| 606/606 [00:00<00:00, 1334.73it/s]\n",
      "100%|██████████| 130/130 [00:00<00:00, 2171.92it/s]\n",
      "100%|██████████| 131/131 [00:00<00:00, 3210.23it/s]\n"
     ]
    }
   ],
   "source": [
    "# Membuat fungsi untuk menghasilkan word embeddings dari token\n",
    "def get_tok_emb(tokens):\n",
    "    emb = np.zeros((max_seq_len, emb_size))\n",
    "    for i, word in enumerate(tokens[:max_seq_len]):\n",
    "        emb[i] = ft.get_word_vector(word)\n",
    "    return emb\n",
    "\n",
    "# Proses pembuatan embeddings untuk setiap token dalam dataset\n",
    "print(\"Creating word embeddings...\")\n",
    "train_df['tokens_embedding'] = train_df['tokens'].progress_apply(get_tok_emb)\n",
    "valid_df['tokens_embedding'] = valid_df['tokens'].progress_apply(get_tok_emb)\n",
    "test_df['tokens_embedding'] = test_df['tokens'].progress_apply(get_tok_emb)"
   ]
  },
  {
   "cell_type": "code",
   "execution_count": 27,
   "id": "c7fc7d4d-c321-4c92-b9c2-ab43c4670107",
   "metadata": {},
   "outputs": [
    {
     "name": "stdout",
     "output_type": "stream",
     "text": [
      "Creating tag mapping...\n",
      "Number of unique tags: 14\n",
      "Tag to index mapping (sample):\n",
      "FUEL_NEGATIVE -> 1\n",
      "FUEL_POSITIVE -> 2\n",
      "MACHINE_NEGATIVE -> 3\n",
      "MACHINE_POSITIVE -> 4\n",
      "O -> 5\n",
      "OTHERS_NEGATIVE -> 6\n",
      "OTHERS_POSITIVE -> 7\n",
      "PART_NEGATIVE -> 8\n",
      "PART_POSITIVE -> 9\n",
      "PRICE_NEGATIVE -> 10\n"
     ]
    }
   ],
   "source": [
    "# Membuat mapping untuk tag ke indeks dan sebaliknya\n",
    "print(\"Creating tag mapping...\")\n",
    "\n",
    "# Ambil semua tag unik dari data latih\n",
    "all_tags = sorted(set(tag for seq in train_df['tags'] for tag in seq))\n",
    "print(f\"Number of unique tags: {len(all_tags)}\")\n",
    "\n",
    "# Buat mapping dari tag ke indeks, dengan indeks 0 untuk padding\n",
    "tag2index = {tag: idx + 1 for idx, tag in enumerate(all_tags)}\n",
    "tag2index['PAD'] = 0  # PAD token at index 0\n",
    "\n",
    "# Buat mapping sebaliknya dari indeks ke tag\n",
    "index2tag = {idx: tag for tag, idx in tag2index.items()}\n",
    "\n",
    "# Tampilkan beberapa mapping untuk verifikasi\n",
    "print(\"Tag to index mapping (sample):\")\n",
    "for i, (tag, idx) in enumerate(tag2index.items()):\n",
    "    if i < 10:  # Tampilkan 10 pertama\n",
    "        print(f\"{tag} -> {idx}\")\n"
   ]
  },
  {
   "cell_type": "markdown",
   "id": "0ebe68ea",
   "metadata": {},
   "source": [
    "## Dimensionality Reduction (PCA)"
   ]
  },
  {
   "cell_type": "code",
   "execution_count": 28,
   "id": "a2b2ae0a",
   "metadata": {},
   "outputs": [
    {
     "name": "stderr",
     "output_type": "stream",
     "text": [
      "100%|██████████| 606/606 [00:00<00:00, 2216.71it/s]\n",
      "100%|██████████| 130/130 [00:00<00:00, 2600.10it/s]\n",
      "100%|██████████| 131/131 [00:00<00:00, 2558.51it/s]\n"
     ]
    }
   ],
   "source": [
    "# Gabungkan semua embedding untuk fit PCA\n",
    "all_embeddings = np.vstack(train_df['tokens_embedding'].values)\n",
    "pca_components = 50\n",
    "pca = PCA(n_components=pca_components)\n",
    "pca.fit(all_embeddings)\n",
    "\n",
    "# Transform setiap embedding sequence\n",
    "def reduce_dims(emb_matrix):\n",
    "    return pca.transform(emb_matrix)\n",
    "\n",
    "train_df['tokens_embedding_pca'] = train_df['tokens_embedding'].progress_apply(reduce_dims)\n",
    "valid_df['tokens_embedding_pca'] = valid_df['tokens_embedding'].progress_apply(reduce_dims)\n",
    "test_df['tokens_embedding_pca'] = test_df['tokens_embedding'].progress_apply(reduce_dims)\n",
    "\n",
    "# Update embedding size ke dimensi baru\n",
    "emb_size = pca_components"
   ]
  },
  {
   "cell_type": "markdown",
   "id": "b530605b",
   "metadata": {},
   "source": [
    "## Optimasi Dataset"
   ]
  },
  {
   "cell_type": "code",
   "execution_count": 29,
   "id": "7d0e4ce6",
   "metadata": {},
   "outputs": [
    {
     "name": "stdout",
     "output_type": "stream",
     "text": [
      "Feature engineering complete.\n",
      "X_train shape: (606, 128, 50)\n",
      "y_train shape: (606, 128, 1)\n",
      "X_valid shape: (130, 128, 50)\n",
      "X_test shape: (131, 128, 50)\n"
     ]
    }
   ],
   "source": [
    "X_train = np.stack(train_df['tokens_embedding_pca'].values)\n",
    "y_train = np.stack(train_df['tag_ids'].values)\n",
    "\n",
    "X_valid = np.stack(valid_df['tokens_embedding_pca'].values)\n",
    "y_valid = np.stack(valid_df['tag_ids'].values)\n",
    "\n",
    "X_test = np.stack(test_df['tokens_embedding_pca'].values)\n",
    "y_test = np.stack(test_df['tag_ids'].values)\n",
    "\n",
    "# Expand label dims: (batch_size, timesteps, 1)\n",
    "y_train = np.expand_dims(y_train, -1)\n",
    "y_valid = np.expand_dims(y_valid, -1)\n",
    "y_test = np.expand_dims(y_test, -1)\n",
    "\n",
    "print(\"Feature engineering complete.\")\n",
    "print(f\"X_train shape: {X_train.shape}\")\n",
    "print(f\"y_train shape: {y_train.shape}\")\n",
    "print(f\"X_valid shape: {X_valid.shape}\")\n",
    "print(f\"X_test shape: {X_test.shape}\")"
   ]
  },
  {
   "cell_type": "markdown",
   "id": "8730f6f3-c8e0-4a0c-beef-aa4f1296bf5b",
   "metadata": {},
   "source": [
    "## Bilstm Model Function"
   ]
  },
  {
   "cell_type": "code",
   "execution_count": 30,
   "id": "74fa4739-f30f-4e75-aca3-a41f36ac0a8f",
   "metadata": {},
   "outputs": [],
   "source": [
    "def bilstm_model(max_len_seq, emb_size, rnn_units, num_tags, lr=0.001):\n",
    "    \"\"\"\n",
    "    Bidirectional LSTM model for NER - highest accuracy but slowest training\n",
    "\n",
    "    Args:\n",
    "        max_len_seq: Maximum sequence length\n",
    "        emb_size: Embedding size\n",
    "        rnn_units: Number of LSTM units per direction\n",
    "        num_tags: Number of output tags\n",
    "        lr: Learning rate\n",
    "    \"\"\"\n",
    "    # Input layer\n",
    "    inputs = Input(shape=(max_len_seq, emb_size), dtype='float32')\n",
    "\n",
    "    # Projection layer to reduce dimensions\n",
    "    x = Dense(128, activation='relu')(inputs)\n",
    "\n",
    "    # Bidirectional LSTM - processes sequences in both directions\n",
    "    # Higher accuracy for context-dependent tasks like NER\n",
    "    x = Bidirectional(\n",
    "        LSTM(\n",
    "            rnn_units,\n",
    "            return_sequences=True,\n",
    "            recurrent_dropout=0.0,\n",
    "            implementation=2  # potentially faster but less stable\n",
    "        )\n",
    "    )(x)\n",
    "\n",
    "    # Dropout for regularization\n",
    "    x = Dropout(0.3)(x)\n",
    "\n",
    "    # Output layer\n",
    "    output = TimeDistributed(Dense(num_tags, activation='softmax'))(x)\n",
    "\n",
    "    model = Model(inputs=inputs, outputs=output)\n",
    "    model.compile(\n",
    "        optimizer=Adam(learning_rate=lr),\n",
    "        loss='sparse_categorical_crossentropy',\n",
    "        metrics=['accuracy']\n",
    "    )\n",
    "\n",
    "    return model\n",
    "\n",
    "\n",
    "def bigru_model(max_len_seq, emb_size, rnn_units, num_tags, lr=0.001):\n",
    "    \"\"\"\n",
    "    Bidirectional GRU model - good balance between speed and accuracy\n",
    "\n",
    "    Args:\n",
    "        max_len_seq: Maximum sequence length\n",
    "        emb_size: Embedding size\n",
    "        rnn_units: Number of GRU units per direction\n",
    "        num_tags: Number of output tags\n",
    "        lr: Learning rate\n",
    "    \"\"\"\n",
    "    # Input layer\n",
    "    inputs = Input(shape=(max_len_seq, emb_size), dtype='float32')\n",
    "\n",
    "    # Projection layer\n",
    "    x = Dense(128, activation='relu')(inputs)\n",
    "\n",
    "    # Bidirectional GRU - faster than LSTM with similar capabilities\n",
    "    x = Bidirectional(\n",
    "        GRU(\n",
    "            rnn_units,\n",
    "            return_sequences=True,\n",
    "            recurrent_dropout=0.0,\n",
    "            reset_after=True  # modern GRU implementation\n",
    "        )\n",
    "    )(x)\n",
    "\n",
    "    # Dropout for regularization\n",
    "    x = Dropout(0.2)(x)\n",
    "\n",
    "    # Output layer\n",
    "    output = TimeDistributed(Dense(num_tags, activation='softmax'))(x)\n",
    "\n",
    "    model = Model(inputs=inputs, outputs=output)\n",
    "    model.compile(\n",
    "        optimizer=Adam(learning_rate=lr),\n",
    "        loss='sparse_categorical_crossentropy',\n",
    "        metrics=['accuracy']\n",
    "    )\n",
    "\n",
    "    return model\n"
   ]
  },
  {
   "cell_type": "code",
   "execution_count": null,
   "id": "1f3228ec-1340-4ff9-ba18-4761d4c337d1",
   "metadata": {},
   "outputs": [],
   "source": []
  }
 ],
 "metadata": {
  "kernelspec": {
   "display_name": "Python 3",
   "language": "python",
   "name": "python3"
  },
  "language_info": {
   "codemirror_mode": {
    "name": "ipython",
    "version": 3
   },
   "file_extension": ".py",
   "mimetype": "text/x-python",
   "name": "python",
   "nbconvert_exporter": "python",
   "pygments_lexer": "ipython3",
   "version": "3.9.0"
  }
 },
 "nbformat": 4,
 "nbformat_minor": 5
}
